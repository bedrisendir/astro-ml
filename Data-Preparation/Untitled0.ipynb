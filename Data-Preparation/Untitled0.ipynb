{
 "metadata": {
  "name": "Untitled0"
 }, 
 "nbformat": 2, 
 "worksheets": [
  {
   "cells": [
    {
     "cell_type": "code", 
     "collapsed": false, 
     "input": [
      "import matplotlib.pyplot as plt", 
      "import numpy as np", 
      "import pandas as pd", 
      "import math", 
      "import scipy.stats as ss", 
      "from sklearn.decomposition import PCA as sklearnPCA", 
      "", 
      "def pcaData(dataframe):", 
      "        count=0", 
      "        titles = dataframe.columns.tolist()", 
      "        titles = titles[:-1]", 
      "        ll = []", 
      "        for title in titles:", 
      "                count +=1", 
      "                if count == 1 or count == 2 or count == 3:", 
      "                        continue", 
      "", 
      "                l = dataframe[title]", 
      "                l = [float(i) for i in l]", 
      "                ll.append(l)", 
      "", 
      "        return ll", 
      "", 
      "#files=[\"node5C\",\"node49\",\"node43\",\"node5E\"]", 
      "#for file in files:", 
      "filename = \"traingdata/node43.csv\"", 
      "ll = pd.read_csv(filename)", 
      "ll = np.array(ll)", 
      "ll=ll[0:,3:]", 
      "ll=ll[0:,:-1]", 
      "ll=np.array(ll,dtype=np.float64)", 
      "ll=np.array(np.nan_to_num(ll))", 
      "componentCount=67 ", 
      "sklearn_pca=sklearnPCA(n_components=componentCount) ", 
      "ll =sklearn_pca.fit_transform(all_samples.T) ", 
      "", 
      "print ll", 
      "#ll[np.isnan(ll)]=0", 
      "", 
      "#print ll.shape", 
      "", 
      "cov = np.cov(ll, rowvar=0)", 
      "mean = np.mean(ll, axis=0)", 
      "", 
      "#cov = np.var(ll, 0)", 
      "cov = np.array(cov)", 
      "#mean = np.mean(ll, 0)", 
      "mean = np.array(mean)", 
      "", 
      "#print cov", 
      "#print mean", 
      "", 
      "#k = mean.shape[0]", 
      "#if len(cov.shape) == 1:", 
      "#       cov = np.diag(cov)", 
      "", 
      "#ll = ll - mean", 
      "#p = (2 * math.pi) ** (-k / 2) * np.linalg.det(cov) ** (-0.5) * np.exp(-0.5 * np.sum(np.dot(ll, np.linalg.pinv(cov)) * ll, 1))", 
      "#print p", 
      "#print cov", 
      "#print mean", 
      "", 
      "#x,y = np.random.multivariate_normal(mean,cov,111).T", 
      "#print x", 
      "#print y", 
      "", 
      "#x = np.linspace(0, 5, 10, endpoint=False)", 
      "#y = multivariate_normal.pdf(x, mean=2.5, cov=0.5)", 
      "", 
      "y = ss.multivariate_normal.pdf(ll, mean, cov, allow_singular=True)", 
      "#print y", 
      "#print len(y)", 
      "#fig1 = plt.figure()", 
      "#ax = fig1.add_subplot(111)", 
      "#plt.plot(ll, y)", 
      "#y = multivariate_normal.pdf(ll, mean, cov)", 
      "#plt.plot(x,y,'x'); plt.axis('equal'); plt.show()", 
      "#print list(xrange(0,5856))", 
      "#plt.plot(np.log(y),list(xrange(0,5856)))", 
      "print y[0]", 
      "plt.plot(np.log(y))", 
      "#plt.plot(y)", 
      "#plt.plot(y)", 
      "#print len(y)", 
      "#print y", 
      "#plt.plot(ll)", 
      "plt.show()"
     ], 
     "language": "python", 
     "outputs": [
      {
       "output_type": "stream", 
       "stream": "stdout", 
       "text": [
        "3.34891105532e-35"
       ]
      }, 
      {
       "ename": "SyntaxError", 
       "evalue": "invalid syntax (<ipython-input-60-01b2043c0cde>, line 32)", 
       "output_type": "pyerr", 
       "traceback": [
        "\u001b[0;36m  File \u001b[0;32m\"<ipython-input-60-01b2043c0cde>\"\u001b[0;36m, line \u001b[0;32m32\u001b[0m\n\u001b[0;31m    componentCount = 67 sklearn_pca = sklearnPCA(n_components=componentCount) sklearn_transf = sklearn_pca.fit_transform(all_samples.T) df= pd.DataFrame(data=sklearn_transf)\u001b[0m\n\u001b[0m                                  ^\u001b[0m\n\u001b[0;31mSyntaxError\u001b[0m\u001b[0;31m:\u001b[0m invalid syntax\n"
       ]
      }
     ]
    }, 
    {
     "cell_type": "code", 
     "collapsed": true, 
     "input": [], 
     "language": "python", 
     "outputs": [], 
     "prompt_number": 56
    }, 
    {
     "cell_type": "code", 
     "collapsed": true, 
     "input": [], 
     "language": "python", 
     "outputs": [], 
     "prompt_number": 43
    }
   ]
  }
 ]
}